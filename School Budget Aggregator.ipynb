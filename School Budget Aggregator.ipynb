{
 "cells": [
  {
   "cell_type": "code",
   "execution_count": 1,
   "metadata": {},
   "outputs": [],
   "source": [
    "import os\n",
    "import pandas as pd\n",
    "import tabula"
   ]
  },
  {
   "cell_type": "code",
   "execution_count": 2,
   "metadata": {},
   "outputs": [],
   "source": [
    "def read_budgets(directory):\n",
    "    budgets = []\n",
    "    for filename in os.listdir(directory):\n",
    "        budget_tables = tabula.read_pdf(f\"{directory}/{filename}\",multiple_tables=True)\n",
    "        budgets.append(budget_tables)\n",
    "    \n",
    "    return budgets      "
   ]
  },
  {
   "cell_type": "code",
   "execution_count": 3,
   "metadata": {},
   "outputs": [],
   "source": [
    "# this takes a while\n",
    "budgets = read_budgets(\"SY1819_School_Budgets\")"
   ]
  },
  {
   "cell_type": "code",
   "execution_count": 67,
   "metadata": {},
   "outputs": [],
   "source": [
    "def generate_basic_information_table(df):\n",
    "    '''returns a series representing the \"basic information\" table'''\n",
    "    df.loc[4] = [\"Economically Disadvantaged Rate\",df.loc[6,1]]\n",
    "    df = df.loc[1:4,:]\n",
    "    return pd.Series(list(df[1]),index=list(df[0]),name='df')"
   ]
  },
  {
   "cell_type": "code",
   "execution_count": 68,
   "metadata": {},
   "outputs": [],
   "source": [
    "def generate_enrollment_table(df):\n",
    "    '''returns a series representing the \"enrollment\" table'''\n",
    "    df = df.T.loc[1:,:]\n",
    "    df_to_series = pd.Series(list(df[1]),index=list(df[0]),name=\"df\")\n",
    "    return df_to_series.str.replace(',','').astype(float)"
   ]
  },
  {
   "cell_type": "code",
   "execution_count": 72,
   "metadata": {},
   "outputs": [],
   "source": [
    "def generate_allotments_table(df,code,fund):\n",
    "    '''returns a multiindexed dataframe of org code, fund, and budget category by budget year'''\n",
    "    df.columns = df.iloc[0]\n",
    "    df = df.drop(0)\n",
    "    df = df.set_index(['Position/Expenditure'])\n",
    "    df = (df.apply(lambda x: x.str.replace('$','').str.replace(',',''))\n",
    "            .astype(float)\n",
    "         )\n",
    "    df.name = fund + \"ed_allotments\"\n",
    "    \n",
    "    df.iloc[:len(df) - 2 ] = df.iloc[:len(df) - 2 ] * 100000 #assumtion that each value represents 100k\n",
    "    \n",
    "    df_index_arrays = [\n",
    "        [code] * len(df),\n",
    "        [fund] * len(df),\n",
    "        list(df.index),\n",
    "    ]\n",
    "    \n",
    "    df.index = pd.MultiIndex.from_arrays(\n",
    "        df_index_arrays,\n",
    "        names=(\"org_code\",\"fund\",\"allotment\")\n",
    "    )\n",
    "    df.columns = [column[:4] for column in df.columns]\n",
    "    \n",
    "    return df"
   ]
  },
  {
   "cell_type": "code",
   "execution_count": 77,
   "metadata": {},
   "outputs": [],
   "source": [
    "def generate_all_tables(list_of_df):\n",
    "    basic_information = generate_basic_information_table(list_of_df[0])\n",
    "    enrollment = generate_enrollment_table(list_of_df[1])\n",
    "    \n",
    "    operating_funded_allotments = generate_allotments_table(\n",
    "        list_of_df[2],\n",
    "        basic_information['Organization Code'],\n",
    "        'operating_fund'\n",
    "    )\n",
    "    grant_funded_allotments = generate_allotments_table(\n",
    "        list_of_df[3],\n",
    "        basic_information['Organization Code'],\n",
    "        'grant_fund'\n",
    "    )\n",
    "    operating_and_grant_funded_allotments = pd.concat([operating_funded_allotments,grant_funded_allotments])\n",
    "    \n",
    "    return basic_information,enrollment,operating_and_grant_funded_allotments"
   ]
  },
  {
   "cell_type": "code",
   "execution_count": 78,
   "metadata": {},
   "outputs": [],
   "source": [
    "def generate_row(budget_year, basic_information, allotments, enrollment):\n",
    "    \n",
    "    enrollment_label = budget_year + ' Projected' if budget_year == \"FY19\" else budget_year\n",
    "    enrollment_index = 'projected_enrollment' if budget_year == \"FY19\" else 'enrollment'\n",
    " \n",
    "    \n",
    "    flattened_allotments = pd.DataFrame(allotments.to_records())\n",
    "    flattened_allotments.index = flattened_allotments['fund'] +\": \" + flattened_allotments['allotment']\n",
    "    flattened_allotments = flattened_allotments.drop(['fund','allotment'],axis=1)\n",
    "    \n",
    "    budget_allotments = flattened_allotments[budget_year]\n",
    "    \n",
    "    enrollment_row = pd.Series(enrollment[enrollment_label],index=[enrollment_index])\n",
    "    \n",
    "    return pd.concat(\n",
    "            [basic_information,budget_allotments,enrollment_row],\n",
    "            axis=0\n",
    "        )\n",
    "\n",
    "    "
   ]
  },
  {
   "cell_type": "code",
   "execution_count": 79,
   "metadata": {},
   "outputs": [],
   "source": [
    "def generate_tabular_budget(budget_year,budgets):\n",
    "    '''generate a tabular budget summary for a budget year. Budget year must be FY14, FY18, or FY19.\n",
    "       Enrollemnt values for budget year 2019 are projected.'''\n",
    "    school_budget_series = []\n",
    "    for index, budget_tables in enumerate(budgets):\n",
    "        # case for budgets with a comment near the basic information table, e.g. 2050\n",
    "        if budget_tables[0].shape[1] == 3:\n",
    "            budget_tables[0] = budget_tables[0].iloc[1:,1:]\n",
    "            budget_tables[0] = budget_tables[0].reset_index(drop=True)\n",
    "            budget_tables[0] = budget_tables[0].T.reset_index(drop=True).T\n",
    "        \n",
    "        basic_information,enrollment,operating_and_grant_funded_allotments = generate_all_tables(budget_tables)\n",
    "        budget_row = generate_row(budget_year, basic_information,operating_and_grant_funded_allotments,enrollment)\n",
    "        budget_row = budget_row\n",
    "        school_budget_series.append(budget_row)\n",
    "\n",
    "\n",
    "    return pd.DataFrame(school_budget_series)\n"
   ]
  },
  {
   "cell_type": "code",
   "execution_count": 34,
   "metadata": {},
   "outputs": [],
   "source": [
    "def generate_hierarchical_budget(budgets):\n",
    "    school_budgets_dfs = []\n",
    "    for budget_tables in budgets:\n",
    "        basic_information,enrollment,operating_and_grant_funded_allotments = generate_all_tables(budget_tables)\n",
    "        school_budgets_dfs.append(operating_and_grant_funded_allotments)\n",
    "\n",
    "    return pd.concat(school_budgets_dfs)"
   ]
  },
  {
   "cell_type": "code",
   "execution_count": 80,
   "metadata": {},
   "outputs": [],
   "source": [
    "fy14 = generate_tabular_budget('FY14',budgets)\n",
    "fy18 = generate_tabular_budget('FY18',budgets)\n",
    "fy19 = generate_tabular_budget('FY19',budgets)"
   ]
  },
  {
   "cell_type": "code",
   "execution_count": 81,
   "metadata": {},
   "outputs": [],
   "source": [
    "fy14.to_csv(\"combined_fy14.csv\")\n",
    "fy18.to_csv(\"combined_fy18.csv\")\n",
    "fy19.to_csv(\"combined_fy19.csv\")"
   ]
  },
  {
   "cell_type": "code",
   "execution_count": 82,
   "metadata": {},
   "outputs": [],
   "source": [
    "hierarchical_budget = generate_hierarchical_budget(budgets)"
   ]
  },
  {
   "cell_type": "code",
   "execution_count": 83,
   "metadata": {},
   "outputs": [],
   "source": [
    "hierarchical_budget.to_csv(\"combined_budget_all_years.csv\")"
   ]
  },
  {
   "cell_type": "code",
   "execution_count": null,
   "metadata": {},
   "outputs": [],
   "source": []
  }
 ],
 "metadata": {
  "kernelspec": {
   "display_name": "Python 3",
   "language": "python",
   "name": "python3"
  },
  "language_info": {
   "codemirror_mode": {
    "name": "ipython",
    "version": 3
   },
   "file_extension": ".py",
   "mimetype": "text/x-python",
   "name": "python",
   "nbconvert_exporter": "python",
   "pygments_lexer": "ipython3",
   "version": "3.6.7"
  }
 },
 "nbformat": 4,
 "nbformat_minor": 2
}
